{
 "cells": [
  {
   "cell_type": "markdown",
   "metadata": {},
   "source": []
  },
  {
   "cell_type": "code",
   "execution_count": 2,
   "metadata": {},
   "outputs": [
    {
     "name": "stdout",
     "output_type": "stream",
     "text": [
      "q =  [2.57804845 0.85477944]\n",
      "p =  [0.0223071  0.17915401]\n",
      "est_q =  [ 2.57804845  1.7116016   1.36460016 -2.46190016  0.85477944]\n",
      "theta_2 =  49.643747428334855 rad\n",
      "vect 43 =  [-0.1283314   0.10371139] rad\n",
      "theta_4 =  141.0564889501362 rad\n",
      "J = \n",
      " [[-0.06225225 -0.07617618]\n",
      " [-0.07703029  0.06473079]]\n",
      "est_J = \n",
      " [[-0.06225222 -0.0761762 ]\n",
      " [-0.0770303   0.06473076]]\n"
     ]
    }
   ],
   "source": [
    "from pantograph_library import PantographModel\n",
    "import numpy as np\n",
    "\n",
    "model = PantographModel()\n",
    "\n",
    "q = np.array([np.pi/1.5, np.pi/4]) + 1/2 * np.random.rand(2)\n",
    "print('q = ', q)\n",
    "p = model.fk(q)\n",
    "print('p = ', p)\n",
    "\n",
    "est_q = model.ik(p)\n",
    "print('est_q = ', est_q)\n",
    "\n",
    "J = model.jacobian(q)\n",
    "print('J = \\n', J)\n",
    "\n",
    "dq = 1e-6\n",
    "dp_1 = (model.fk(q + np.array([dq, 0])) - model.fk(q))/dq\n",
    "dp_2 = (model.fk(q + np.array([0, dq])) - model.fk(q))/dq\n",
    "est_J = np.array([[dp_1[0], dp_2[0]], [dp_1[1], dp_2[1]]])\n",
    "print('est_J = \\n', est_J)"
   ]
  },
  {
   "cell_type": "code",
   "execution_count": 13,
   "metadata": {},
   "outputs": [
    {
     "data": {
      "text/plain": [
       "[<matplotlib.lines.Line2D at 0x7dc5ac284250>]"
      ]
     },
     "execution_count": 13,
     "metadata": {},
     "output_type": "execute_result"
    },
    {
     "data": {
      "image/png": "[encoded data removed]",
      "text/plain": [
       "<Figure size 640x480 with 1 Axes>"
      ]
     },
     "metadata": {},
     "output_type": "display_data"
    }
   ],
   "source": [
    "import matplotlib.pyplot as plt\n",
    "\n",
    "q_vars = np.pi/10\n",
    "N = 10\n",
    "span_q1 = np.array([\n",
    "    np.linspace(q[0] - q_vars, q[0] + q_vars, N),\n",
    "    np.ones(N)*q[1]\n",
    "])\n",
    "span_q2 = np.array([\n",
    "    np.ones(N)*q[0],\n",
    "    np.linspace(q[1] - q_vars, q[1] + q_vars, N)\n",
    "])\n",
    "\n",
    "p_span_q1 = np.zeros((2, N))\n",
    "p_span_q2 = np.zeros((2, N))\n",
    "for i in range(N):\n",
    "    p_span_q1[:, i] = model.fk(span_q1[:, i])\n",
    "    p_span_q2[:, i] = model.fk(span_q2[:, i])\n",
    "\n",
    "plt.figure()\n",
    "plt.gca().set_aspect('equal')\n",
    "plt.plot(p_span_q1[0], p_span_q1[1], 'b')\n",
    "plt.plot(p_span_q2[0], p_span_q2[1], 'r')\n",
    "plt.scatter(p[0], p[1])\n",
    "plt.xlim((-0.1, model.a5 + 0.1))\n",
    "plt.ylim((-0.05, 0.3))\n",
    "\n",
    "\n",
    "# Coordinates of P2 with respect to P1\n",
    "x2 = model.a1 * np.cos(q[0])\n",
    "y2 = model.a1 * np.sin(q[0])\n",
    "# Coordinates of P4 with respect to P1\n",
    "x4 = model.a4 * np.cos(q[1]) + model.a5\n",
    "y4 = model.a4 * np.sin(q[1])\n",
    "plt.scatter([0.0], [0.0])\n",
    "plt.scatter([model.a5], [0.0])\n",
    "plt.plot([0, x2, p[0]], [0, y2, p[1]], 'k')\n",
    "plt.plot([model.a5, x4, p[0]], [0, y4, p[1]])"
   ]
  },
  {
   "cell_type": "code",
   "execution_count": 5,
   "metadata": {},
   "outputs": [
    {
     "data": {
      "text/plain": [
       "array([[-0.07617618],\n",
       "       [ 0.06473079]])"
      ]
     },
     "execution_count": 5,
     "metadata": {},
     "output_type": "execute_result"
    }
   ],
   "source": [
    "J @ np.array([[0], [1]])"
   ]
  },
  {
   "cell_type": "code",
   "execution_count": 3,
   "metadata": {},
   "outputs": [
    {
     "name": "stdout",
     "output_type": "stream",
     "text": [
      "alpha_5 =  58.3244218768547  rad\n",
      "beta_5 =  109.15181740116421  rad\n",
      "q5 =  50.827395524309516  rad\n"
     ]
    }
   ],
   "source": [
    "P3 = p\n",
    "P5 = np.array([0 + model.a5, 0.0])\n",
    "alpha_5 = np.arccos(\n",
    "    (model.a4**2 + np.linalg.norm(P3 - P5)**2 - model.a3**2)\n",
    "    / (2 * model.a4 * np.linalg.norm(P3 - P5))\n",
    ")\n",
    "beta_5 = np.arctan2(P3[1], P3[0] - P5[0])\n",
    "q5 = beta_5 - alpha_5\n",
    "\n",
    "print('alpha_5 = ', alpha_5 * 180 / np.pi, ' rad')\n",
    "print('beta_5 = ', beta_5 * 180 / np.pi, ' rad')\n",
    "print('q5 = ', q5 * 180 / np.pi, ' rad')"
   ]
  }
 ],
 "metadata": {
  "kernelspec": {
   "display_name": "Python 3",
   "language": "python",
   "name": "python3"
  },
  "language_info": {
   "codemirror_mode": {
    "name": "ipython",
    "version": 3
   },
   "file_extension": ".py",
   "mimetype": "text/x-python",
   "name": "python",
   "nbconvert_exporter": "python",
   "pygments_lexer": "ipython3",
   "version": "3.10.12"
  }
 },
 "nbformat": 4,
 "nbformat_minor": 2
}
