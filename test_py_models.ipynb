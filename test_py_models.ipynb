{
 "cells": [
  {
   "cell_type": "markdown",
   "metadata": {},
   "source": []
  },
  {
   "cell_type": "code",
   "execution_count": null,
   "metadata": {},
   "outputs": [],
   "source": [
    "from pantograph_library import PantographModel\n",
    "import numpy as np\n",
    "\n",
    "model = PantographModel()\n",
    "\n",
    "q = np.array([np.pi/1.5, np.pi/4]) + 1/2 * np.random.rand(2)\n",
    "print('q = ', q * 180 / np.pi, 'deg.')\n",
    "p = model.fk(q)\n",
    "print('p = ', p)\n",
    "\n",
    "est_q = model.ik(p)\n",
    "print('est_q = ', est_q * 180 / np.pi, 'deg.')\n",
    "\n",
    "J = model.jacobian(q)\n",
    "print('J = \\n', J)\n",
    "\n",
    "dq = 1e-6\n",
    "dp_1 = (model.fk(q + np.array([dq, 0])) - model.fk(q))/dq\n",
    "dp_2 = (model.fk(q + np.array([0, dq])) - model.fk(q))/dq\n",
    "est_J = np.array([[dp_1[0], dp_2[0]], [dp_1[1], dp_2[1]]])\n",
    "print('est_J = \\n', est_J)"
   ]
  },
  {
   "cell_type": "code",
   "execution_count": null,
   "metadata": {},
   "outputs": [],
   "source": [
    "import matplotlib.pyplot as plt\n",
    "\n",
    "q_vars = np.pi/10\n",
    "N = 10\n",
    "span_q1 = np.array([\n",
    "    np.linspace(q[0] - q_vars, q[0] + q_vars, N),\n",
    "    np.ones(N)*q[1]\n",
    "])\n",
    "span_q2 = np.array([\n",
    "    np.ones(N)*q[0],\n",
    "    np.linspace(q[1] - q_vars, q[1] + q_vars, N)\n",
    "])\n",
    "\n",
    "p_span_q1 = np.zeros((2, N))\n",
    "p_span_q2 = np.zeros((2, N))\n",
    "for i in range(N):\n",
    "    p_span_q1[:, i] = model.fk(span_q1[:, i])\n",
    "    p_span_q2[:, i] = model.fk(span_q2[:, i])\n",
    "\n",
    "plt.figure()\n",
    "plt.gca().set_aspect('equal')\n",
    "plt.plot(p_span_q1[0], p_span_q1[1], 'b')\n",
    "plt.plot(p_span_q2[0], p_span_q2[1], 'r')\n",
    "plt.scatter(p[0], p[1])\n",
    "plt.xlim((-0.1, model.a5 + 0.1))\n",
    "plt.ylim((-0.05, 0.3))\n",
    "\n",
    "\n",
    "# Coordinates of P2 with respect to P1\n",
    "x2 = model.a1 * np.cos(q[0])\n",
    "y2 = model.a1 * np.sin(q[0])\n",
    "# Coordinates of P4 with respect to P1\n",
    "x4 = model.a4 * np.cos(q[1]) + model.a5\n",
    "y4 = model.a4 * np.sin(q[1])\n",
    "plt.scatter([0.0], [0.0])\n",
    "plt.scatter([model.a5], [0.0])\n",
    "plt.plot([0, x2, p[0]], [0, y2, p[1]], 'k')\n",
    "plt.plot([model.a5, x4, p[0]], [0, y4, p[1]])"
   ]
  }
 ],
 "metadata": {
  "kernelspec": {
   "display_name": "Python 3",
   "language": "python",
   "name": "python3"
  },
  "language_info": {
   "codemirror_mode": {
    "name": "ipython",
    "version": 3
   },
   "file_extension": ".py",
   "mimetype": "text/x-python",
   "name": "python",
   "nbconvert_exporter": "python",
   "pygments_lexer": "ipython3",
   "version": "3.10.12"
  }
 },
 "nbformat": 4,
 "nbformat_minor": 2
}
